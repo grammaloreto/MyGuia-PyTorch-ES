{
 "cells": [
  {
   "cell_type": "markdown",
   "metadata": {
    "id": "pBBJu1ld9Bp3"
   },
   "source": [
    "**Construyendo una Red Neuronal (NN) para predecir el tiempo de lluvia mediante un modelo con datos reales**"
   ]
  },
  {
   "cell_type": "markdown",
   "metadata": {
    "id": "Xt0iDagF9cO5"
   },
   "source": [
    "Para llevar a cabo esta tarea:\n",
    "- Se pre-procesarán archivos CSV y se convertirán los datos en tensores\n",
    "- Se construirá un modelo de NN con PyTorch\n",
    "- Se usará una funcion de pérdida (loss function) y un optimizador para entrenar el modelo\n",
    "- Se evaluará el modelo y se reconoceran los peligros de una clasificacion desequilibrada."
   ]
  },
  {
   "cell_type": "code",
   "execution_count": 2,
   "metadata": {
    "colab": {
     "base_uri": "https://localhost:8080/"
    },
    "id": "Gkt4kZJS_WRL",
    "outputId": "70c8e75a-ae8d-42ad-b82b-ca0f82a67aa2"
   },
   "outputs": [
    {
     "name": "stdout",
     "output_type": "stream",
     "text": [
      "Python implementation: CPython\n",
      "Python version       : 3.7.12\n",
      "IPython version      : 5.5.0\n",
      "\n",
      "numpy : 1.21.5\n",
      "pandas: 1.3.5\n",
      "torch : 1.10.0+cu111\n",
      "\n"
     ]
    }
   ],
   "source": [
    "%reload_ext watermark\n",
    "%watermark -v -p numpy,pandas,torch"
   ]
  },
  {
   "cell_type": "code",
   "execution_count": 4,
   "metadata": {
    "colab": {
     "base_uri": "https://localhost:8080/"
    },
    "id": "N_Vhlayo_x6K",
    "outputId": "db2bf2eb-6d2d-4a13-e51f-56c9ce924198"
   },
   "outputs": [
    {
     "data": {
      "text/plain": [
       "<torch._C.Generator at 0x7f5e9cb51030>"
      ]
     },
     "execution_count": 4,
     "metadata": {},
     "output_type": "execute_result"
    }
   ],
   "source": [
    "#Dependencias\n",
    "import torch\n",
    "\n",
    "import os\n",
    "import numpy as np\n",
    "import pandas as pd\n",
    "from tqdm import tqdm\n",
    "import seaborn as sns\n",
    "from pylab import rcParams\n",
    "import matplotlib.pyplot as plt\n",
    "from matplotlib import rc\n",
    "from sklearn.model_selection import train_test_split\n",
    "from sklearn.metrics import confusion_matrix, classification_report\n",
    "\n",
    "from torch import nn, optim\n",
    "\n",
    "import torch.nn.functional as F\n",
    "\n",
    "%matplotlib inline\n",
    "%config InlineBackend.figure_format='retina'\n",
    "\n",
    "sns.set(style='whitegrid', palette='muted', font_scale=1.2)\n",
    "\n",
    "HAPPY_COLORS_PALETTE = [\"#01BEFE\", \"#FFDD00\", \"#FF7D00\", \"#FF006D\", \"#93D30C\", \"#8F00FF\"]\n",
    "\n",
    "sns.set_palette(sns.color_palette(HAPPY_COLORS_PALETTE))\n",
    "\n",
    "rcParams['figure.figsize'] = 12, 8\n",
    "\n",
    "RANDOM_SEED = 42\n",
    "np.random.seed(RANDOM_SEED)\n",
    "torch.manual_seed(RANDOM_SEED)"
   ]
  },
  {
   "cell_type": "markdown",
   "metadata": {},
   "source": [
    "## Datos"
   ]
  },
  {
   "cell_type": "markdown",
   "metadata": {
    "id": "OthFN4KiCsoG"
   },
   "source": [
    "Subir el dataset (Datos de multiples estaciones climaticas de Australia) al notebook. Los datos se encuentran en Kaggle (Joe Young, Rain in Australia):\n",
    "https://www.kaggle.com/jsphyg/weather-dataset-rattle-package"
   ]
  },
  {
   "cell_type": "code",
   "execution_count": 5,
   "metadata": {
    "colab": {
     "base_uri": "https://localhost:8080/",
     "height": 386
    },
    "id": "1DQ0et6KCVwh",
    "outputId": "5887873b-f739-4a92-9a62-c653927c5763"
   },
   "outputs": [
    {
     "data": {
      "text/html": [
       "\n",
       "  <div id=\"df-b66fee57-ac8e-43b0-a8b3-f0f9f83b333b\">\n",
       "    <div class=\"colab-df-container\">\n",
       "      <div>\n",
       "<style scoped>\n",
       "    .dataframe tbody tr th:only-of-type {\n",
       "        vertical-align: middle;\n",
       "    }\n",
       "\n",
       "    .dataframe tbody tr th {\n",
       "        vertical-align: top;\n",
       "    }\n",
       "\n",
       "    .dataframe thead th {\n",
       "        text-align: right;\n",
       "    }\n",
       "</style>\n",
       "<table border=\"1\" class=\"dataframe\">\n",
       "  <thead>\n",
       "    <tr style=\"text-align: right;\">\n",
       "      <th></th>\n",
       "      <th>Date</th>\n",
       "      <th>Location</th>\n",
       "      <th>MinTemp</th>\n",
       "      <th>MaxTemp</th>\n",
       "      <th>Rainfall</th>\n",
       "      <th>Evaporation</th>\n",
       "      <th>Sunshine</th>\n",
       "      <th>WindGustDir</th>\n",
       "      <th>WindGustSpeed</th>\n",
       "      <th>WindDir9am</th>\n",
       "      <th>...</th>\n",
       "      <th>Humidity9am</th>\n",
       "      <th>Humidity3pm</th>\n",
       "      <th>Pressure9am</th>\n",
       "      <th>Pressure3pm</th>\n",
       "      <th>Cloud9am</th>\n",
       "      <th>Cloud3pm</th>\n",
       "      <th>Temp9am</th>\n",
       "      <th>Temp3pm</th>\n",
       "      <th>RainToday</th>\n",
       "      <th>RainTomorrow</th>\n",
       "    </tr>\n",
       "  </thead>\n",
       "  <tbody>\n",
       "    <tr>\n",
       "      <th>0</th>\n",
       "      <td>2008-12-01</td>\n",
       "      <td>Albury</td>\n",
       "      <td>13.4</td>\n",
       "      <td>22.9</td>\n",
       "      <td>0.6</td>\n",
       "      <td>NaN</td>\n",
       "      <td>NaN</td>\n",
       "      <td>W</td>\n",
       "      <td>44.0</td>\n",
       "      <td>W</td>\n",
       "      <td>...</td>\n",
       "      <td>71.0</td>\n",
       "      <td>22.0</td>\n",
       "      <td>1007.7</td>\n",
       "      <td>1007.1</td>\n",
       "      <td>8.0</td>\n",
       "      <td>NaN</td>\n",
       "      <td>16.9</td>\n",
       "      <td>21.8</td>\n",
       "      <td>No</td>\n",
       "      <td>No</td>\n",
       "    </tr>\n",
       "    <tr>\n",
       "      <th>1</th>\n",
       "      <td>2008-12-02</td>\n",
       "      <td>Albury</td>\n",
       "      <td>7.4</td>\n",
       "      <td>25.1</td>\n",
       "      <td>0.0</td>\n",
       "      <td>NaN</td>\n",
       "      <td>NaN</td>\n",
       "      <td>WNW</td>\n",
       "      <td>44.0</td>\n",
       "      <td>NNW</td>\n",
       "      <td>...</td>\n",
       "      <td>44.0</td>\n",
       "      <td>25.0</td>\n",
       "      <td>1010.6</td>\n",
       "      <td>1007.8</td>\n",
       "      <td>NaN</td>\n",
       "      <td>NaN</td>\n",
       "      <td>17.2</td>\n",
       "      <td>24.3</td>\n",
       "      <td>No</td>\n",
       "      <td>No</td>\n",
       "    </tr>\n",
       "    <tr>\n",
       "      <th>2</th>\n",
       "      <td>2008-12-03</td>\n",
       "      <td>Albury</td>\n",
       "      <td>12.9</td>\n",
       "      <td>25.7</td>\n",
       "      <td>0.0</td>\n",
       "      <td>NaN</td>\n",
       "      <td>NaN</td>\n",
       "      <td>WSW</td>\n",
       "      <td>46.0</td>\n",
       "      <td>W</td>\n",
       "      <td>...</td>\n",
       "      <td>38.0</td>\n",
       "      <td>30.0</td>\n",
       "      <td>1007.6</td>\n",
       "      <td>1008.7</td>\n",
       "      <td>NaN</td>\n",
       "      <td>2.0</td>\n",
       "      <td>21.0</td>\n",
       "      <td>23.2</td>\n",
       "      <td>No</td>\n",
       "      <td>No</td>\n",
       "    </tr>\n",
       "    <tr>\n",
       "      <th>3</th>\n",
       "      <td>2008-12-04</td>\n",
       "      <td>Albury</td>\n",
       "      <td>9.2</td>\n",
       "      <td>28.0</td>\n",
       "      <td>0.0</td>\n",
       "      <td>NaN</td>\n",
       "      <td>NaN</td>\n",
       "      <td>NE</td>\n",
       "      <td>24.0</td>\n",
       "      <td>SE</td>\n",
       "      <td>...</td>\n",
       "      <td>45.0</td>\n",
       "      <td>16.0</td>\n",
       "      <td>1017.6</td>\n",
       "      <td>1012.8</td>\n",
       "      <td>NaN</td>\n",
       "      <td>NaN</td>\n",
       "      <td>18.1</td>\n",
       "      <td>26.5</td>\n",
       "      <td>No</td>\n",
       "      <td>No</td>\n",
       "    </tr>\n",
       "    <tr>\n",
       "      <th>4</th>\n",
       "      <td>2008-12-05</td>\n",
       "      <td>Albury</td>\n",
       "      <td>17.5</td>\n",
       "      <td>32.3</td>\n",
       "      <td>1.0</td>\n",
       "      <td>NaN</td>\n",
       "      <td>NaN</td>\n",
       "      <td>W</td>\n",
       "      <td>41.0</td>\n",
       "      <td>ENE</td>\n",
       "      <td>...</td>\n",
       "      <td>82.0</td>\n",
       "      <td>33.0</td>\n",
       "      <td>1010.8</td>\n",
       "      <td>1006.0</td>\n",
       "      <td>7.0</td>\n",
       "      <td>8.0</td>\n",
       "      <td>17.8</td>\n",
       "      <td>29.7</td>\n",
       "      <td>No</td>\n",
       "      <td>No</td>\n",
       "    </tr>\n",
       "  </tbody>\n",
       "</table>\n",
       "<p>5 rows × 23 columns</p>\n",
       "</div>\n",
       "      <button class=\"colab-df-convert\" onclick=\"convertToInteractive('df-b66fee57-ac8e-43b0-a8b3-f0f9f83b333b')\"\n",
       "              title=\"Convert this dataframe to an interactive table.\"\n",
       "              style=\"display:none;\">\n",
       "        \n",
       "  <svg xmlns=\"http://www.w3.org/2000/svg\" height=\"24px\"viewBox=\"0 0 24 24\"\n",
       "       width=\"24px\">\n",
       "    <path d=\"M0 0h24v24H0V0z\" fill=\"none\"/>\n",
       "    <path d=\"M18.56 5.44l.94 2.06.94-2.06 2.06-.94-2.06-.94-.94-2.06-.94 2.06-2.06.94zm-11 1L8.5 8.5l.94-2.06 2.06-.94-2.06-.94L8.5 2.5l-.94 2.06-2.06.94zm10 10l.94 2.06.94-2.06 2.06-.94-2.06-.94-.94-2.06-.94 2.06-2.06.94z\"/><path d=\"M17.41 7.96l-1.37-1.37c-.4-.4-.92-.59-1.43-.59-.52 0-1.04.2-1.43.59L10.3 9.45l-7.72 7.72c-.78.78-.78 2.05 0 2.83L4 21.41c.39.39.9.59 1.41.59.51 0 1.02-.2 1.41-.59l7.78-7.78 2.81-2.81c.8-.78.8-2.07 0-2.86zM5.41 20L4 18.59l7.72-7.72 1.47 1.35L5.41 20z\"/>\n",
       "  </svg>\n",
       "      </button>\n",
       "      \n",
       "  <style>\n",
       "    .colab-df-container {\n",
       "      display:flex;\n",
       "      flex-wrap:wrap;\n",
       "      gap: 12px;\n",
       "    }\n",
       "\n",
       "    .colab-df-convert {\n",
       "      background-color: #E8F0FE;\n",
       "      border: none;\n",
       "      border-radius: 50%;\n",
       "      cursor: pointer;\n",
       "      display: none;\n",
       "      fill: #1967D2;\n",
       "      height: 32px;\n",
       "      padding: 0 0 0 0;\n",
       "      width: 32px;\n",
       "    }\n",
       "\n",
       "    .colab-df-convert:hover {\n",
       "      background-color: #E2EBFA;\n",
       "      box-shadow: 0px 1px 2px rgba(60, 64, 67, 0.3), 0px 1px 3px 1px rgba(60, 64, 67, 0.15);\n",
       "      fill: #174EA6;\n",
       "    }\n",
       "\n",
       "    [theme=dark] .colab-df-convert {\n",
       "      background-color: #3B4455;\n",
       "      fill: #D2E3FC;\n",
       "    }\n",
       "\n",
       "    [theme=dark] .colab-df-convert:hover {\n",
       "      background-color: #434B5C;\n",
       "      box-shadow: 0px 1px 3px 1px rgba(0, 0, 0, 0.15);\n",
       "      filter: drop-shadow(0px 1px 2px rgba(0, 0, 0, 0.3));\n",
       "      fill: #FFFFFF;\n",
       "    }\n",
       "  </style>\n",
       "\n",
       "      <script>\n",
       "        const buttonEl =\n",
       "          document.querySelector('#df-b66fee57-ac8e-43b0-a8b3-f0f9f83b333b button.colab-df-convert');\n",
       "        buttonEl.style.display =\n",
       "          google.colab.kernel.accessAllowed ? 'block' : 'none';\n",
       "\n",
       "        async function convertToInteractive(key) {\n",
       "          const element = document.querySelector('#df-b66fee57-ac8e-43b0-a8b3-f0f9f83b333b');\n",
       "          const dataTable =\n",
       "            await google.colab.kernel.invokeFunction('convertToInteractive',\n",
       "                                                     [key], {});\n",
       "          if (!dataTable) return;\n",
       "\n",
       "          const docLinkHtml = 'Like what you see? Visit the ' +\n",
       "            '<a target=\"_blank\" href=https://colab.research.google.com/notebooks/data_table.ipynb>data table notebook</a>'\n",
       "            + ' to learn more about interactive tables.';\n",
       "          element.innerHTML = '';\n",
       "          dataTable['output_type'] = 'display_data';\n",
       "          await google.colab.output.renderOutput(dataTable, element);\n",
       "          const docLink = document.createElement('div');\n",
       "          docLink.innerHTML = docLinkHtml;\n",
       "          element.appendChild(docLink);\n",
       "        }\n",
       "      </script>\n",
       "    </div>\n",
       "  </div>\n",
       "  "
      ],
      "text/plain": [
       "         Date Location  MinTemp  MaxTemp  Rainfall  Evaporation  Sunshine  \\\n",
       "0  2008-12-01   Albury     13.4     22.9       0.6          NaN       NaN   \n",
       "1  2008-12-02   Albury      7.4     25.1       0.0          NaN       NaN   \n",
       "2  2008-12-03   Albury     12.9     25.7       0.0          NaN       NaN   \n",
       "3  2008-12-04   Albury      9.2     28.0       0.0          NaN       NaN   \n",
       "4  2008-12-05   Albury     17.5     32.3       1.0          NaN       NaN   \n",
       "\n",
       "  WindGustDir  WindGustSpeed WindDir9am  ... Humidity9am  Humidity3pm  \\\n",
       "0           W           44.0          W  ...        71.0         22.0   \n",
       "1         WNW           44.0        NNW  ...        44.0         25.0   \n",
       "2         WSW           46.0          W  ...        38.0         30.0   \n",
       "3          NE           24.0         SE  ...        45.0         16.0   \n",
       "4           W           41.0        ENE  ...        82.0         33.0   \n",
       "\n",
       "   Pressure9am  Pressure3pm  Cloud9am  Cloud3pm  Temp9am  Temp3pm  RainToday  \\\n",
       "0       1007.7       1007.1       8.0       NaN     16.9     21.8         No   \n",
       "1       1010.6       1007.8       NaN       NaN     17.2     24.3         No   \n",
       "2       1007.6       1008.7       NaN       2.0     21.0     23.2         No   \n",
       "3       1017.6       1012.8       NaN       NaN     18.1     26.5         No   \n",
       "4       1010.8       1006.0       7.0       8.0     17.8     29.7         No   \n",
       "\n",
       "   RainTomorrow  \n",
       "0            No  \n",
       "1            No  \n",
       "2            No  \n",
       "3            No  \n",
       "4            No  \n",
       "\n",
       "[5 rows x 23 columns]"
      ]
     },
     "execution_count": 5,
     "metadata": {},
     "output_type": "execute_result"
    }
   ],
   "source": [
    "df = pd.read_csv('/content/weatherAUS.csv')\n",
    "df.head()"
   ]
  },
  {
   "cell_type": "markdown",
   "metadata": {
    "id": "UyfWoWv3DOLZ"
   },
   "source": [
    "Vamos a hacer un primer acercamiento con los datos ya que por ejemplo se ven muchos NaN"
   ]
  },
  {
   "cell_type": "code",
   "execution_count": 6,
   "metadata": {
    "colab": {
     "base_uri": "https://localhost:8080/"
    },
    "id": "EZkaWpZHDaGS",
    "outputId": "7537ecd1-95c3-490f-cabc-8519377fa8a6"
   },
   "outputs": [
    {
     "data": {
      "text/plain": [
       "(145460, 23)"
      ]
     },
     "execution_count": 6,
     "metadata": {},
     "output_type": "execute_result"
    }
   ],
   "source": [
    "df.shape"
   ]
  },
  {
   "cell_type": "markdown",
   "metadata": {
    "id": "v0DYEYQCDoKq"
   },
   "source": [
    "**Procesando los Datos**"
   ]
  },
  {
   "cell_type": "markdown",
   "metadata": {
    "id": "FcZ0EIJ6D4Jh"
   },
   "source": [
    "Simplificaremos el Set y solo se tomarán en cuenta 5 columnas que estan relacionadas con la pregunta que se quiere resolver: ¿va a llover o no el día de mañana?"
   ]
  },
  {
   "cell_type": "code",
   "execution_count": 7,
   "metadata": {
    "id": "B_Ju2cMVEJtx"
   },
   "outputs": [],
   "source": [
    "cols = ['Rainfall', 'Humidity3pm', 'Pressure9am', 'RainToday', 'RainTomorrow']\n",
    "\n",
    "df = df[cols]"
   ]
  },
  {
   "cell_type": "markdown",
   "metadata": {
    "id": "hSj-XcnPEbDs"
   },
   "source": [
    "Las **redes neuronales** solo funcionan con numeros así que se convertiran los **Si** en **1** y los **No** en **0**"
   ]
  },
  {
   "cell_type": "code",
   "execution_count": 8,
   "metadata": {
    "id": "Mc_MAyYeEpHK"
   },
   "outputs": [],
   "source": [
    "df['RainToday'].replace({'No': 0, 'Yes': 1}, inplace = True)\n",
    "df['RainTomorrow'].replace({'No': 0, 'Yes': 1}, inplace = True)"
   ]
  },
  {
   "cell_type": "markdown",
   "metadata": {
    "id": "g35gmebKE4L2"
   },
   "source": [
    "Se descartan tambien las filas con valores faltantes(NaN)"
   ]
  },
  {
   "cell_type": "code",
   "execution_count": 9,
   "metadata": {
    "colab": {
     "base_uri": "https://localhost:8080/",
     "height": 206
    },
    "id": "oSwpJPOFDrvS",
    "outputId": "4a66863d-a673-4697-bedb-338ee89fce9b"
   },
   "outputs": [
    {
     "data": {
      "text/html": [
       "\n",
       "  <div id=\"df-41754778-4922-47f9-9912-c577c1621cb2\">\n",
       "    <div class=\"colab-df-container\">\n",
       "      <div>\n",
       "<style scoped>\n",
       "    .dataframe tbody tr th:only-of-type {\n",
       "        vertical-align: middle;\n",
       "    }\n",
       "\n",
       "    .dataframe tbody tr th {\n",
       "        vertical-align: top;\n",
       "    }\n",
       "\n",
       "    .dataframe thead th {\n",
       "        text-align: right;\n",
       "    }\n",
       "</style>\n",
       "<table border=\"1\" class=\"dataframe\">\n",
       "  <thead>\n",
       "    <tr style=\"text-align: right;\">\n",
       "      <th></th>\n",
       "      <th>Rainfall</th>\n",
       "      <th>Humidity3pm</th>\n",
       "      <th>Pressure9am</th>\n",
       "      <th>RainToday</th>\n",
       "      <th>RainTomorrow</th>\n",
       "    </tr>\n",
       "  </thead>\n",
       "  <tbody>\n",
       "    <tr>\n",
       "      <th>0</th>\n",
       "      <td>0.6</td>\n",
       "      <td>22.0</td>\n",
       "      <td>1007.7</td>\n",
       "      <td>0.0</td>\n",
       "      <td>0.0</td>\n",
       "    </tr>\n",
       "    <tr>\n",
       "      <th>1</th>\n",
       "      <td>0.0</td>\n",
       "      <td>25.0</td>\n",
       "      <td>1010.6</td>\n",
       "      <td>0.0</td>\n",
       "      <td>0.0</td>\n",
       "    </tr>\n",
       "    <tr>\n",
       "      <th>2</th>\n",
       "      <td>0.0</td>\n",
       "      <td>30.0</td>\n",
       "      <td>1007.6</td>\n",
       "      <td>0.0</td>\n",
       "      <td>0.0</td>\n",
       "    </tr>\n",
       "    <tr>\n",
       "      <th>3</th>\n",
       "      <td>0.0</td>\n",
       "      <td>16.0</td>\n",
       "      <td>1017.6</td>\n",
       "      <td>0.0</td>\n",
       "      <td>0.0</td>\n",
       "    </tr>\n",
       "    <tr>\n",
       "      <th>4</th>\n",
       "      <td>1.0</td>\n",
       "      <td>33.0</td>\n",
       "      <td>1010.8</td>\n",
       "      <td>0.0</td>\n",
       "      <td>0.0</td>\n",
       "    </tr>\n",
       "  </tbody>\n",
       "</table>\n",
       "</div>\n",
       "      <button class=\"colab-df-convert\" onclick=\"convertToInteractive('df-41754778-4922-47f9-9912-c577c1621cb2')\"\n",
       "              title=\"Convert this dataframe to an interactive table.\"\n",
       "              style=\"display:none;\">\n",
       "        \n",
       "  <svg xmlns=\"http://www.w3.org/2000/svg\" height=\"24px\"viewBox=\"0 0 24 24\"\n",
       "       width=\"24px\">\n",
       "    <path d=\"M0 0h24v24H0V0z\" fill=\"none\"/>\n",
       "    <path d=\"M18.56 5.44l.94 2.06.94-2.06 2.06-.94-2.06-.94-.94-2.06-.94 2.06-2.06.94zm-11 1L8.5 8.5l.94-2.06 2.06-.94-2.06-.94L8.5 2.5l-.94 2.06-2.06.94zm10 10l.94 2.06.94-2.06 2.06-.94-2.06-.94-.94-2.06-.94 2.06-2.06.94z\"/><path d=\"M17.41 7.96l-1.37-1.37c-.4-.4-.92-.59-1.43-.59-.52 0-1.04.2-1.43.59L10.3 9.45l-7.72 7.72c-.78.78-.78 2.05 0 2.83L4 21.41c.39.39.9.59 1.41.59.51 0 1.02-.2 1.41-.59l7.78-7.78 2.81-2.81c.8-.78.8-2.07 0-2.86zM5.41 20L4 18.59l7.72-7.72 1.47 1.35L5.41 20z\"/>\n",
       "  </svg>\n",
       "      </button>\n",
       "      \n",
       "  <style>\n",
       "    .colab-df-container {\n",
       "      display:flex;\n",
       "      flex-wrap:wrap;\n",
       "      gap: 12px;\n",
       "    }\n",
       "\n",
       "    .colab-df-convert {\n",
       "      background-color: #E8F0FE;\n",
       "      border: none;\n",
       "      border-radius: 50%;\n",
       "      cursor: pointer;\n",
       "      display: none;\n",
       "      fill: #1967D2;\n",
       "      height: 32px;\n",
       "      padding: 0 0 0 0;\n",
       "      width: 32px;\n",
       "    }\n",
       "\n",
       "    .colab-df-convert:hover {\n",
       "      background-color: #E2EBFA;\n",
       "      box-shadow: 0px 1px 2px rgba(60, 64, 67, 0.3), 0px 1px 3px 1px rgba(60, 64, 67, 0.15);\n",
       "      fill: #174EA6;\n",
       "    }\n",
       "\n",
       "    [theme=dark] .colab-df-convert {\n",
       "      background-color: #3B4455;\n",
       "      fill: #D2E3FC;\n",
       "    }\n",
       "\n",
       "    [theme=dark] .colab-df-convert:hover {\n",
       "      background-color: #434B5C;\n",
       "      box-shadow: 0px 1px 3px 1px rgba(0, 0, 0, 0.15);\n",
       "      filter: drop-shadow(0px 1px 2px rgba(0, 0, 0, 0.3));\n",
       "      fill: #FFFFFF;\n",
       "    }\n",
       "  </style>\n",
       "\n",
       "      <script>\n",
       "        const buttonEl =\n",
       "          document.querySelector('#df-41754778-4922-47f9-9912-c577c1621cb2 button.colab-df-convert');\n",
       "        buttonEl.style.display =\n",
       "          google.colab.kernel.accessAllowed ? 'block' : 'none';\n",
       "\n",
       "        async function convertToInteractive(key) {\n",
       "          const element = document.querySelector('#df-41754778-4922-47f9-9912-c577c1621cb2');\n",
       "          const dataTable =\n",
       "            await google.colab.kernel.invokeFunction('convertToInteractive',\n",
       "                                                     [key], {});\n",
       "          if (!dataTable) return;\n",
       "\n",
       "          const docLinkHtml = 'Like what you see? Visit the ' +\n",
       "            '<a target=\"_blank\" href=https://colab.research.google.com/notebooks/data_table.ipynb>data table notebook</a>'\n",
       "            + ' to learn more about interactive tables.';\n",
       "          element.innerHTML = '';\n",
       "          dataTable['output_type'] = 'display_data';\n",
       "          await google.colab.output.renderOutput(dataTable, element);\n",
       "          const docLink = document.createElement('div');\n",
       "          docLink.innerHTML = docLinkHtml;\n",
       "          element.appendChild(docLink);\n",
       "        }\n",
       "      </script>\n",
       "    </div>\n",
       "  </div>\n",
       "  "
      ],
      "text/plain": [
       "   Rainfall  Humidity3pm  Pressure9am  RainToday  RainTomorrow\n",
       "0       0.6         22.0       1007.7        0.0           0.0\n",
       "1       0.0         25.0       1010.6        0.0           0.0\n",
       "2       0.0         30.0       1007.6        0.0           0.0\n",
       "3       0.0         16.0       1017.6        0.0           0.0\n",
       "4       1.0         33.0       1010.8        0.0           0.0"
      ]
     },
     "execution_count": 9,
     "metadata": {},
     "output_type": "execute_result"
    }
   ],
   "source": [
    "df = df.dropna(how='any')\n",
    "df.head()"
   ]
  },
  {
   "cell_type": "markdown",
   "metadata": {
    "id": "0EOTPHZQFIuj"
   },
   "source": [
    "**Teniendo los datos listos toca ver si estan equilibrados (misma proporción) de cuantas veces llovió o no \"mañana\"**, graficamos para poder verlo:"
   ]
  },
  {
   "cell_type": "code",
   "execution_count": 10,
   "metadata": {
    "colab": {
     "base_uri": "https://localhost:8080/",
     "height": 563
    },
    "id": "h1E2ry0-FTKN",
    "outputId": "0ecc8766-d403-4090-f4d4-9ec3f9e35ed7"
   },
   "outputs": [
    {
     "name": "stderr",
     "output_type": "stream",
     "text": [
      "/usr/local/lib/python3.7/dist-packages/seaborn/_decorators.py:43: FutureWarning: Pass the following variable as a keyword arg: x. From version 0.12, the only valid positional argument will be `data`, and passing other arguments without an explicit keyword will result in an error or misinterpretation.\n",
      "  FutureWarning\n"
     ]
    },
    {
     "data": {
      "image/png": "[encoded data removed]",
      "text/plain": [
       "<Figure size 864x576 with 1 Axes>"
      ]
     },
     "metadata": {
      "image/png": {
       "height": 489,
       "width": 761
      }
     },
     "output_type": "display_data"
    }
   ],
   "source": [
    "sns.countplot(df.RainTomorrow);"
   ]
  },
  {
   "cell_type": "code",
   "execution_count": 11,
   "metadata": {
    "colab": {
     "base_uri": "https://localhost:8080/"
    },
    "id": "eNb4LVL0FaxQ",
    "outputId": "c2331a7f-a382-4a01-fb24-3743f614e0ec"
   },
   "outputs": [
    {
     "data": {
      "text/plain": [
       "0.0    0.778762\n",
       "1.0    0.221238\n",
       "Name: RainTomorrow, dtype: float64"
      ]
     },
     "execution_count": 11,
     "metadata": {},
     "output_type": "execute_result"
    }
   ],
   "source": [
    "df.RainTomorrow.value_counts() / df.shape[0]"
   ]
  },
  {
   "cell_type": "markdown",
   "metadata": {
    "id": "QIn2OorXFlWr"
   },
   "source": [
    "La cosa no pinta bien, alrrededor de un 78% tienen que no lloverá mañana (RainTomorrow). Esto quiere decir que habrá un 78 de ventaja de que no lloverá mañana. Los pesos (weights) seran diferentes.\n",
    "\n",
    "Cuando se presenta este problema toca tener en cuenta alguna guía para manejar datos desequilibrados. Lo ideal es que fueran 50-50. El objetivo en este notebook es crear una red neuronal por lo que dejaremos los datos así, sin embargo esto es para tener en cuenta y poder entrenar modelos confiables.\n",
    "\n",
    "Despues de esta aclaracion se dividen los datos de entrenamiento y prueba"
   ]
  },
  {
   "cell_type": "code",
   "execution_count": 12,
   "metadata": {
    "id": "730EnNYMGQ6Z"
   },
   "outputs": [],
   "source": [
    "X = df[['Rainfall', 'Humidity3pm', 'RainToday', 'Pressure9am']]\n",
    "y = df[['RainTomorrow']]\n",
    "\n",
    "X_train, X_test, y_train, y_test = train_test_split(X, y, test_size=0.2, random_state=RANDOM_SEED)"
   ]
  },
  {
   "cell_type": "markdown",
   "metadata": {
    "id": "IZbf2TwRGYuU"
   },
   "source": [
    ".... y se convierten en tensores, aca entra a trabajar PyTorch"
   ]
  },
  {
   "cell_type": "code",
   "execution_count": 13,
   "metadata": {
    "colab": {
     "base_uri": "https://localhost:8080/"
    },
    "id": "_krFZQHFGfoW",
    "outputId": "e4124ce8-d64b-4ac7-b006-3e2b3b46c303"
   },
   "outputs": [
    {
     "name": "stdout",
     "output_type": "stream",
     "text": [
      "torch.Size([99751, 4]) torch.Size([99751])\n",
      "torch.Size([24938, 4]) torch.Size([24938])\n"
     ]
    }
   ],
   "source": [
    "X_train = torch.from_numpy(X_train.to_numpy()).float()\n",
    "y_train = torch.squeeze(torch.from_numpy(y_train.to_numpy()).float())\n",
    "\n",
    "X_test = torch.from_numpy(X_test.to_numpy()).float()\n",
    "y_test = torch.squeeze(torch.from_numpy(y_test.to_numpy()).float())\n",
    "\n",
    "print(X_train.shape, y_train.shape)\n",
    "print(X_test.shape, y_test.shape)"
   ]
  },
  {
   "cell_type": "markdown",
   "metadata": {
    "id": "xDg9_gTJGquq"
   },
   "source": [
    "**Construyendo la Red Neuronal**"
   ]
  },
  {
   "cell_type": "markdown",
   "metadata": {
    "id": "roOO1IJBGt9H"
   },
   "source": [
    "- Los datos de Entrada (input) seran: *Rainfall, Humidity3pm, RainToday, Pressure9am.* Se crea una capa de entrada apropiada para este conjunto de datos.\n",
    "- El resultado o datos de Salida (output) será un número entre 0 y 1 que representa la probabilidad de que llueva mañana (RainTomorrow). La predicción la dará la capa final (de salida) de la red.\n",
    "- Agregaremos dos capas ocultas (hidden layer 1 & 2) entre las capas de entrada y salida. Los parámetros (neuronas) de esas capas decidirán el resultado final. Todas las capas estarán completamente conectadas.\n",
    "Una manera fácil de construir el NN con PyTorch es crear una clase que herede el *torch.nn.Module:*\n",
    "\n"
   ]
  },
  {
   "cell_type": "code",
   "execution_count": 14,
   "metadata": {
    "id": "V63XNm0LHgM7"
   },
   "outputs": [],
   "source": [
    "class Net(nn.Module):\n",
    "\n",
    "  def __init__(self, n_features):\n",
    "    super(Net, self).__init__()\n",
    "    self.fc1 = nn.Linear(n_features, 5)\n",
    "    self.fc2 = nn.Linear(5, 3)\n",
    "    self.fc3 = nn.Linear(3, 1)\n",
    "\n",
    "  def forward(self, x):\n",
    "    x = F.relu(self.fc1(x))\n",
    "    x = F.relu(self.fc2(x))\n",
    "    return torch.sigmoid(self.fc3(x))"
   ]
  },
  {
   "cell_type": "markdown",
   "metadata": {
    "id": "Vp1HgcPvIhmP"
   },
   "source": [
    "Comenzamos creando las capas de nuestro modelo en el constructor. El método **forward()** es donde ocurre la magia. Acepta la entrada **x** y permite que fluya a través de cada capa.\n",
    "\n",
    "Hay un paso hacia atrás correspondiente (definido automaticamente por PyTorch) que permite que el modelo aprenda de los errores que está cometiendo actualmente."
   ]
  },
  {
   "cell_type": "markdown",
   "metadata": {
    "id": "IF-BIuL7I3Sj"
   },
   "source": [
    "**Funciones de Activacion (Activation Functions)**"
   ]
  },
  {
   "cell_type": "markdown",
   "metadata": {
    "id": "_N08_SH0JRTk"
   },
   "source": [
    "Es posible que observe las llamadas a **F.relu** y **torch.sigmoid.** ¿Por qué las necesitamos?"
   ]
  },
  {
   "cell_type": "markdown",
   "metadata": {
    "id": "IJr8BseEJefi"
   },
   "source": [
    "Una caracteristica interesante de las redes neuronales es que **pueden aproximar funciones no lineales**. De hecho, está probado que pueden aproximarse a cualquier función."
   ]
  },
  {
   "cell_type": "markdown",
   "metadata": {
    "id": "eSlcryPSJ1Ab"
   },
   "source": [
    "Buena suerte aproximando funciones no lineales apilando capas lineales. Las funciones de activación permiten romper con el mundo lineal y aprender más. Por lo general, las encontrará aplicadas a una salida de alguna capa."
   ]
  },
  {
   "cell_type": "markdown",
   "metadata": {
    "id": "yv1MDor1Kc3s"
   },
   "source": [
    ">Se puede profundizar por ejemplo con **ReLU** que es una de las funciones de activacion mas usadas\n",
    "$$ ReLU(x)=max(0,x)$$"
   ]
  },
  {
   "cell_type": "code",
   "execution_count": 16,
   "metadata": {
    "colab": {
     "base_uri": "https://localhost:8080/",
     "height": 488
    },
    "id": "Bn1Cl5UOK5gj",
    "outputId": "6dbf75c2-e98e-4be8-8d6a-174f59fcbd70"
   },
   "outputs": [
    {
     "data": {
      "image/png": "[encoded data removed]",
      "text/plain": [
       "<Figure size 864x576 with 1 Axes>"
      ]
     },
     "metadata": {
      "image/png": {
       "height": 471,
       "width": 714
      }
     },
     "output_type": "display_data"
    }
   ],
   "source": [
    "ax = plt.gca()\n",
    "\n",
    "plt.plot(\n",
    "  np.linspace(-1, 1, 5), \n",
    "  F.relu(torch.linspace(-1, 1, steps=5)).numpy()\n",
    ")\n",
    "ax.set_ylim([-0.1, 1.1]);"
   ]
  },
  {
   "cell_type": "markdown",
   "metadata": {
    "id": "GUAbxku1LTLb"
   },
   "source": [
    "SIGMOIDEO (Sigmoid)\n",
    "\n",
    "El sigmoide es útil cuando necesita tomar una decisión/clasificación binaria (responder con un sí o un no).\n",
    "\n",
    "Se define como:\n",
    "$$Sigmoid(x)=1/1+e−x$$\n",
    "\n",
    "El sigmoide aplasta los valores de entrada entre 0 y 1 pero de una manera \"amable\"."
   ]
  },
  {
   "cell_type": "code",
   "execution_count": 17,
   "metadata": {
    "colab": {
     "base_uri": "https://localhost:8080/",
     "height": 488
    },
    "id": "jpQz5enKL2Gi",
    "outputId": "9d3e6263-6591-41ae-a50b-be0da18518b4"
   },
   "outputs": [
    {
     "data": {
      "image/png": "[encoded data removed]",
      "text/plain": [
       "<Figure size 864x576 with 1 Axes>"
      ]
     },
     "metadata": {
      "image/png": {
       "height": 471,
       "width": 714
      }
     },
     "output_type": "display_data"
    }
   ],
   "source": [
    "ax = plt.gca()\n",
    "\n",
    "plt.plot(\n",
    "  np.linspace(-10, 10, 100), \n",
    "  torch.sigmoid(torch.linspace(-10, 10, steps=100)).numpy()\n",
    ")\n",
    "ax.set_ylim([-0.1, 1.1]);"
   ]
  },
  {
   "cell_type": "markdown",
   "metadata": {
    "id": "Q_yVUDNfMGWg"
   },
   "source": [
    "**El Entreno, entrenamiento o Training del modelo**"
   ]
  },
  {
   "cell_type": "markdown",
   "metadata": {
    "id": "H8isDvyHMPwA"
   },
   "source": [
    "Con el modelo implementado, necesitamos encontrar parámetros que predigan si lloverá mañana. Primero, necesitamos algo que nos diga qué tan bien lo estamos haciendo actualmente:"
   ]
  },
  {
   "cell_type": "code",
   "execution_count": 18,
   "metadata": {
    "id": "cu0fQaYeMUUe"
   },
   "outputs": [],
   "source": [
    "criterion = nn.BCELoss()"
   ]
  },
  {
   "cell_type": "markdown",
   "metadata": {
    "id": "hlUowxlYMi69"
   },
   "source": [
    "**BCELoss** es una función de pérdida que mide la diferencia entre dos vectores binarios. En nuestro caso, las predicciones de nuestro modelo y los valores reales. Espera que los valores sean generados por la función sigmoidea. Cuanto más se acerque este valor a 0, mejor debería ser su modelo."
   ]
  },
  {
   "cell_type": "markdown",
   "metadata": {
    "id": "e3jG5PnlMkML"
   },
   "source": [
    "Pero, ¿cómo encontramos parámetros que minimicen la función de pérdida?"
   ]
  },
  {
   "cell_type": "markdown",
   "metadata": {
    "id": "gOo8ufBlMp6u"
   },
   "source": [
    "**Optimización**"
   ]
  },
  {
   "cell_type": "markdown",
   "metadata": {
    "id": "AyVX8sY-MtIj"
   },
   "source": [
    "Imaginemos que cada parámetro de nuestro NN es una perilla. El trabajo del optimizador es encontrar las posiciones perfectas para cada perilla para que la pérdida se acerque a 0."
   ]
  },
  {
   "cell_type": "markdown",
   "metadata": {
    "id": "i8O3c-OCMzu1"
   },
   "source": [
    "Los modelos del mundo real pueden contener millones o incluso miles de millones de parámetros. Con tantas perillas para girar, sería bueno tener un optimizador eficiente que encuentre soluciones rápidamente."
   ]
  },
  {
   "cell_type": "markdown",
   "metadata": {
    "id": "BECazxKqM586"
   },
   "source": [
    "Al contrario de lo que pueda creer, la optimización en Deep Learning es simplemente satisfactoria. En la práctica, se contenta con valores de parámetros suficientemente buenos que le den una precisión aceptable."
   ]
  },
  {
   "cell_type": "markdown",
   "metadata": {
    "id": "qyfMg5cYNBJL"
   },
   "source": [
    "Si bien hay toneladas de optimizadores entre los que puede elegir, Adam es una primera opción segura. PyTorch tiene una implementación bien depurada que puede usar:"
   ]
  },
  {
   "cell_type": "code",
   "execution_count": 19,
   "metadata": {
    "id": "42FoUKlhNIb1"
   },
   "outputs": [],
   "source": [
    "optimizer = optim.Adam(net.parameters(), lr=0.001)"
   ]
  },
  {
   "cell_type": "markdown",
   "metadata": {
    "id": "X_0jF9VRNPx1"
   },
   "source": [
    "Naturalmente, el optimizador requiere los parámetros. El segundo argumento **lr** es la tasa de aprendizaje. Es una compensación entre qué tan buenos parámetros vamoa a encontrar y qué tan rápido llegaremos allí."
   ]
  },
  {
   "cell_type": "markdown",
   "metadata": {
    "id": "3JGjH6I1NZwe"
   },
   "source": [
    "**Haciéndolo en la GPU (de colab)**"
   ]
  },
  {
   "cell_type": "markdown",
   "metadata": {},
   "source": [
    "Para usar una GPU en colab ir al entorno de ejecucion y cambiar el tipo de **ninguna** por **GPU**"
   ]
  },
  {
   "cell_type": "markdown",
   "metadata": {
    "id": "t2QObHbLOCq2"
   },
   "source": [
    "Hacer cálculos paralelos masivos en GPU es uno de los habilitadores del aprendizaje profundo (Deep Learning) moderno."
   ]
  },
  {
   "cell_type": "markdown",
   "metadata": {
    "id": "kd_4JE_3ONA3"
   },
   "source": [
    "PyTorch hace que sea muy fácil transferir todos los cálculos y datos a una GPU:"
   ]
  },
  {
   "cell_type": "code",
   "execution_count": 20,
   "metadata": {
    "id": "PFheW4VeNgKa"
   },
   "outputs": [],
   "source": [
    "device = torch.device(\"cuda:0\" if torch.cuda.is_available() else \"cpu\")"
   ]
  },
  {
   "cell_type": "code",
   "execution_count": 21,
   "metadata": {
    "id": "GajSK8h9NpRo"
   },
   "outputs": [],
   "source": [
    "X_train = X_train.to(device)\n",
    "y_train = y_train.to(device)\n",
    "\n",
    "X_test = X_test.to(device)\n",
    "y_test = y_test.to(device)"
   ]
  },
  {
   "cell_type": "code",
   "execution_count": 22,
   "metadata": {
    "id": "cyc3wFq5NxM-"
   },
   "outputs": [],
   "source": [
    "net = net.to(device)\n",
    "\n",
    "criterion = criterion.to(device)"
   ]
  },
  {
   "cell_type": "markdown",
   "metadata": {
    "id": "-w_78Cn2OWOi"
   },
   "source": [
    "Comenzamos comprobando si un dispositivo CUDA está disponible o no. Luego, transferimos todos los datos de entrenamiento y prueba a ese dispositivo. Finalmente, movemos nuestro modelo y función de pérdida."
   ]
  },
  {
   "cell_type": "markdown",
   "metadata": {
    "id": "iIbNh2zCOaI5"
   },
   "source": [
    "**Pronostico del tiempo**"
   ]
  },
  {
   "cell_type": "markdown",
   "metadata": {
    "id": "lSamFvrUOiRz"
   },
   "source": [
    "Tener una función de pérdida es excelente, pero rastrear la precisión de nuestro modelo. Aquí está la definición de nuestra precisión:"
   ]
  },
  {
   "cell_type": "code",
   "execution_count": 23,
   "metadata": {
    "id": "IyRTgT6cOjL4"
   },
   "outputs": [],
   "source": [
    "def calculate_accuracy(y_true, y_pred):\n",
    "  predicted = y_pred.ge(.5).view(-1)\n",
    "  return (y_true == predicted).sum().float() / len(y_true)"
   ]
  },
  {
   "cell_type": "markdown",
   "metadata": {
    "id": "xMNlA7B6Otz8"
   },
   "source": [
    "Convertimos todos los valores por debajo de 0,5 a 0. De lo contrario, lo establecemos en 1. Finalmente, calculamos el porcentaje de valores correctos.\n",
    "\n",
    "**Con todas las piezas del rompecabezas podemos comenzar a entrenar a nuestro modelo:**"
   ]
  },
  {
   "cell_type": "code",
   "execution_count": 24,
   "metadata": {
    "colab": {
     "base_uri": "https://localhost:8080/"
    },
    "id": "5oDyivqpOu65",
    "outputId": "35b97310-a094-477e-ca6e-a258cb56ef86"
   },
   "outputs": [
    {
     "name": "stdout",
     "output_type": "stream",
     "text": [
      "epoch 0\n",
      "Train set - loss: 2.513, accuracy: 0.779\n",
      "Test  set - loss: 2.517, accuracy: 0.778\n",
      "\n",
      "epoch 100\n",
      "Train set - loss: 0.457, accuracy: 0.792\n",
      "Test  set - loss: 0.458, accuracy: 0.793\n",
      "\n",
      "epoch 200\n",
      "Train set - loss: 0.435, accuracy: 0.801\n",
      "Test  set - loss: 0.436, accuracy: 0.8\n",
      "\n",
      "epoch 300\n",
      "Train set - loss: 0.421, accuracy: 0.814\n",
      "Test  set - loss: 0.421, accuracy: 0.815\n",
      "\n",
      "epoch 400\n",
      "Train set - loss: 0.412, accuracy: 0.826\n",
      "Test  set - loss: 0.413, accuracy: 0.827\n",
      "\n",
      "epoch 500\n",
      "Train set - loss: 0.408, accuracy: 0.831\n",
      "Test  set - loss: 0.408, accuracy: 0.832\n",
      "\n",
      "epoch 600\n",
      "Train set - loss: 0.406, accuracy: 0.833\n",
      "Test  set - loss: 0.406, accuracy: 0.835\n",
      "\n",
      "epoch 700\n",
      "Train set - loss: 0.405, accuracy: 0.834\n",
      "Test  set - loss: 0.405, accuracy: 0.835\n",
      "\n",
      "epoch 800\n",
      "Train set - loss: 0.404, accuracy: 0.834\n",
      "Test  set - loss: 0.404, accuracy: 0.835\n",
      "\n",
      "epoch 900\n",
      "Train set - loss: 0.404, accuracy: 0.834\n",
      "Test  set - loss: 0.404, accuracy: 0.836\n",
      "\n"
     ]
    }
   ],
   "source": [
    "def round_tensor(t, decimal_places=3):\n",
    "  return round(t.item(), decimal_places)\n",
    "\n",
    "for epoch in range(1000):\n",
    "    \n",
    "    y_pred = net(X_train)\n",
    "    \n",
    "    y_pred = torch.squeeze(y_pred)\n",
    "    train_loss = criterion(y_pred, y_train)\n",
    "    \n",
    "    if epoch % 100 == 0:\n",
    "      train_acc = calculate_accuracy(y_train, y_pred)\n",
    "\n",
    "      y_test_pred = net(X_test)\n",
    "      y_test_pred = torch.squeeze(y_test_pred)\n",
    "\n",
    "      test_loss = criterion(y_test_pred, y_test)\n",
    "\n",
    "      test_acc = calculate_accuracy(y_test, y_test_pred)\n",
    "      print(\n",
    "f'''epoch {epoch}\n",
    "Train set - loss: {round_tensor(train_loss)}, accuracy: {round_tensor(train_acc)}\n",
    "Test  set - loss: {round_tensor(test_loss)}, accuracy: {round_tensor(test_acc)}\n",
    "''')\n",
    "    \n",
    "    optimizer.zero_grad()\n",
    "    \n",
    "    train_loss.backward()\n",
    "    \n",
    "    optimizer.step()"
   ]
  },
  {
   "cell_type": "markdown",
   "metadata": {
    "id": "HVYq-v9pPLno"
   },
   "source": [
    "Durante el entrenamiento le mostramos a nuestro modelo los datos 1000 veces. Cada vez que medimos la pérdida propagamos los errores a través de nuestro modelo y le pedimos al optimizador que encuentre mejores parámetros."
   ]
  },
  {
   "cell_type": "markdown",
   "metadata": {
    "id": "GGLzf3mIP6VG"
   },
   "source": [
    "El método **zero_grad()** borra los gradientes acumulados que el optimizador usa para encontrar mejores parámetros."
   ]
  },
  {
   "cell_type": "markdown",
   "metadata": {
    "id": "YqLZRx3cQA6a"
   },
   "source": [
    "¿Qué pasa con esa precisión? El **83,6 %** de precisión en el conjunto de prueba suena razonable pero ya veremos..."
   ]
  },
  {
   "cell_type": "markdown",
   "metadata": {
    "id": "M5Mwpp6mQS9g"
   },
   "source": [
    "**Guardar el Modelo**"
   ]
  },
  {
   "cell_type": "markdown",
   "metadata": {
    "id": "_08Lg5DaQhuo"
   },
   "source": [
    "Entrenar a un buen modelo puede llevar mucho tiempo, entonces hay que aegurarse de guardar todo el trabajo hecho:"
   ]
  },
  {
   "cell_type": "code",
   "execution_count": 25,
   "metadata": {
    "id": "ObPgMDEWQ0n1"
   },
   "outputs": [],
   "source": [
    "MODEL_PATH = 'model.pth'\n",
    "\n",
    "torch.save(net, MODEL_PATH)"
   ]
  },
  {
   "cell_type": "markdown",
   "metadata": {
    "id": "4iYoaEKeRDko"
   },
   "source": [
    "Si estan en **colab** lo pueden descargar a su maquina local buscando en los archivos del notebook."
   ]
  },
  {
   "cell_type": "markdown",
   "metadata": {
    "id": "H5Y2ePqNRWuz"
   },
   "source": [
    "Para llamarlo despues de haberlo guardado en cualquier otro momento también es fácil:"
   ]
  },
  {
   "cell_type": "code",
   "execution_count": 26,
   "metadata": {
    "id": "mri3vTD6Rdm6"
   },
   "outputs": [],
   "source": [
    "net = torch.load(MODEL_PATH)"
   ]
  },
  {
   "cell_type": "markdown",
   "metadata": {
    "id": "n-2uYEMsR2Gn"
   },
   "source": [
    "**Evaluación**"
   ]
  },
  {
   "cell_type": "markdown",
   "metadata": {
    "id": "wBpYMDKRR4wK"
   },
   "source": [
    "¿No sería perfecto conocer todos los errores que puede cometer el modelo? Esto es imposible! Pero se puede obtener una estimación.\n",
    "\n",
    "Usar solo precisión no sería una buena manera de hacerlo. Recuerde que nuestros datos en su mayoría no contienen ejemplos de lluvia.\n",
    "\n",
    "Una forma de profundizar un poco más en el rendimiento del modelo es evaluar la precisión y la recuperación (recall) de cada clase. En neste caso, eso será sin lluvia (No rain) y con lluvia (Raining):"
   ]
  },
  {
   "cell_type": "code",
   "execution_count": 27,
   "metadata": {
    "colab": {
     "base_uri": "https://localhost:8080/"
    },
    "id": "iUsSjKcvSWG4",
    "outputId": "b87dc69d-d453-4fa7-aa26-309801222b07"
   },
   "outputs": [
    {
     "name": "stdout",
     "output_type": "stream",
     "text": [
      "              precision    recall  f1-score   support\n",
      "\n",
      "     No rain       0.85      0.96      0.90     19413\n",
      "     Raining       0.74      0.40      0.52      5525\n",
      "\n",
      "    accuracy                           0.84     24938\n",
      "   macro avg       0.80      0.68      0.71     24938\n",
      "weighted avg       0.83      0.84      0.82     24938\n",
      "\n"
     ]
    }
   ],
   "source": [
    "classes = ['No rain', 'Raining']\n",
    "\n",
    "y_pred = net(X_test)\n",
    "\n",
    "y_pred = y_pred.ge(.5).view(-1).cpu()\n",
    "y_test = y_test.cpu()\n",
    "\n",
    "print(classification_report(y_test, y_pred, target_names=classes))"
   ]
  },
  {
   "cell_type": "markdown",
   "metadata": {
    "id": "g5Rli-8KTKGI"
   },
   "source": [
    "Una precisión máxima de 1 indica que el modelo es perfecto para identificar solo ejemplos relevantes. Un **recall** máximo de 1 indica que nuestro modelo puede encontrar todos los ejemplos relevantes en el conjunto de datos para esta clase."
   ]
  },
  {
   "cell_type": "markdown",
   "metadata": {
    "id": "Y0bISDZmTlQs"
   },
   "source": [
    "Puede ver que a nuestro modelo le está yendo bien cuando se trata de la clase Sin lluvia (No rain) tenemos los ejemplos suficientes. Desafortunadamente, no podemos confiar realmente en las predicciones de la clase Raining que no tenía muchos ejemplos.\n"
   ]
  },
  {
   "cell_type": "markdown",
   "metadata": {
    "id": "QelL0KvXT0Vn"
   },
   "source": [
    "Una de las mejores cosas de la clasificación binaria es posible ver bien una matriz de confusión (confusion matrix) simple:"
   ]
  },
  {
   "cell_type": "code",
   "execution_count": 28,
   "metadata": {
    "colab": {
     "base_uri": "https://localhost:8080/",
     "height": 529
    },
    "id": "Do7qswJkUMMn",
    "outputId": "f8d9c141-ebda-4cf0-e180-69c0b51ebdce"
   },
   "outputs": [
    {
     "data": {
      "image/png": "[encoded data removed]",
      "text/plain": [
       "<Figure size 864x576 with 2 Axes>"
      ]
     },
     "metadata": {
      "image/png": {
       "height": 512,
       "width": 733
      }
     },
     "output_type": "display_data"
    }
   ],
   "source": [
    "cm = confusion_matrix(y_test, y_pred)\n",
    "df_cm = pd.DataFrame(cm, index=classes, columns=classes)\n",
    "\n",
    "hmap = sns.heatmap(df_cm, annot=True, fmt=\"d\")\n",
    "hmap.yaxis.set_ticklabels(hmap.yaxis.get_ticklabels(), rotation=0, ha='right')\n",
    "hmap.xaxis.set_ticklabels(hmap.xaxis.get_ticklabels(), rotation=30, ha='right')\n",
    "plt.ylabel('True label')\n",
    "plt.xlabel('Predicted label');"
   ]
  },
  {
   "cell_type": "markdown",
   "metadata": {
    "id": "d2tXKtsfUcFM"
   },
   "source": [
    "**Se puede ver claramente que no hay que confiar en nuestro modelo cuando dice que va a llover.**"
   ]
  },
  {
   "cell_type": "markdown",
   "metadata": {
    "id": "CaKtF1EeUk8d"
   },
   "source": [
    "**Haciendo Predicciones**"
   ]
  },
  {
   "cell_type": "markdown",
   "metadata": {
    "id": "2fCgF0ZiUwLc"
   },
   "source": [
    "Probémos nuestro modelo con algunos ejemplos hipotéticos:"
   ]
  },
  {
   "cell_type": "code",
   "execution_count": 29,
   "metadata": {
    "id": "rWtW2leVU2Fu"
   },
   "outputs": [],
   "source": [
    "def will_it_rain(rainfall, humidity, rain_today, pressure):\n",
    "  t = torch.as_tensor([rainfall, humidity, rain_today, pressure]) \\\n",
    "      .float() \\\n",
    "      .to(device)\n",
    "  output = net(t)\n",
    "  return output.ge(0.5).item()"
   ]
  },
  {
   "cell_type": "markdown",
   "metadata": {
    "id": "nMSAvyRNVGea"
   },
   "source": [
    "Lo siguiente devolverá una respuesta binaria basada en las predicciones del modelo. Probemos:"
   ]
  },
  {
   "cell_type": "code",
   "execution_count": 30,
   "metadata": {
    "colab": {
     "base_uri": "https://localhost:8080/"
    },
    "id": "Ro2ITT_nVMIY",
    "outputId": "5c8c7ebb-f86b-443e-b15f-baf268e718f2"
   },
   "outputs": [
    {
     "data": {
      "text/plain": [
       "False"
      ]
     },
     "execution_count": 30,
     "metadata": {},
     "output_type": "execute_result"
    }
   ],
   "source": [
    "will_it_rain(rainfall=0, humidity=1, rain_today=False, pressure=100)"
   ]
  },
  {
   "cell_type": "code",
   "execution_count": 31,
   "metadata": {
    "colab": {
     "base_uri": "https://localhost:8080/"
    },
    "id": "6y0OyxHaVW8J",
    "outputId": "33334cdc-6d6c-4e9b-bb28-44b0a4a90b27"
   },
   "outputs": [
    {
     "data": {
      "text/plain": [
       "True"
      ]
     },
     "execution_count": 31,
     "metadata": {},
     "output_type": "execute_result"
    }
   ],
   "source": [
    "will_it_rain(rainfall=10, humidity=10, rain_today=True, pressure=2)"
   ]
  },
  {
   "cell_type": "markdown",
   "metadata": {
    "id": "cORSVIy4Vx1_"
   },
   "source": [
    "**Una Consideracion final**:\n",
    "\n",
    "Modelo Listo para desplegar, aunque dadas las falencias que tiene a la hora de predecir lluvias (los datos estaban desbalanceados en este sentido) no sería recomendable usarlo mucho. A pesar de lo anterior este notebook brinda información valiosa de como construir/entrenar/guardar/trabajar una red neuronal(NN). \n",
    "Vale la pena destacar nuevamente **la calidad de los datos con los que se entrene un modelo** para obtener resultados confiables. "
   ]
  },
  {
   "cell_type": "code",
   "execution_count": null,
   "metadata": {},
   "outputs": [],
   "source": []
  }
 ],
 "metadata": {
  "accelerator": "GPU",
  "colab": {
   "name": "Neural Network.ipynb",
   "provenance": []
  },
  "kernelspec": {
   "display_name": "Python 3 (ipykernel)",
   "language": "python",
   "name": "python3"
  },
  "language_info": {
   "codemirror_mode": {
    "name": "ipython",
    "version": 3
   },
   "file_extension": ".py",
   "mimetype": "text/x-python",
   "name": "python",
   "nbconvert_exporter": "python",
   "pygments_lexer": "ipython3",
   "version": "3.8.8"
  }
 },
 "nbformat": 4,
 "nbformat_minor": 1
}
